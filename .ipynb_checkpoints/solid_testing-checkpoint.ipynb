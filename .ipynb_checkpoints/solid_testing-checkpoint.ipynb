{
 "cells": [
  {
   "cell_type": "markdown",
   "id": "69251a47",
   "metadata": {},
   "source": [
    "# install\n",
    "\n",
    "```\n",
    "sudo add-apt-repository ppa:openscad/releases\n",
    "sudo apt-get update\n",
    "sudo apt-get install openscad\n",
    "```"
   ]
  },
  {
   "cell_type": "code",
   "execution_count": 9,
   "id": "d0e3fec9",
   "metadata": {
    "collapsed": true,
    "jupyter": {
     "outputs_hidden": true
    }
   },
   "outputs": [
    {
     "name": "stdout",
     "output_type": "stream",
     "text": [
      "Requirement already satisfied: solidpython2 in /home/erik/miniconda3/lib/python3.12/site-packages (2.1.1)\n",
      "Collecting jupyterscad\n",
      "  Downloading jupyterscad-1.0-py3-none-any.whl.metadata (4.3 kB)\n",
      "Requirement already satisfied: ply<4.0,>=3.11 in /home/erik/miniconda3/lib/python3.12/site-packages (from solidpython2) (3.11)\n",
      "Requirement already satisfied: setuptools>=65.6.3 in /home/erik/miniconda3/lib/python3.12/site-packages (from solidpython2) (69.5.1)\n",
      "Collecting numpy-stl (from jupyterscad)\n",
      "  Downloading numpy_stl-3.2.0-py3-none-any.whl.metadata (18 kB)\n",
      "Collecting ipywidgets (from jupyterscad)\n",
      "  Downloading ipywidgets-8.1.6-py3-none-any.whl.metadata (2.4 kB)\n",
      "Collecting pythreejs (from jupyterscad)\n",
      "  Downloading pythreejs-2.4.2-py3-none-any.whl.metadata (5.4 kB)\n",
      "Requirement already satisfied: comm>=0.1.3 in /home/erik/miniconda3/lib/python3.12/site-packages (from ipywidgets->jupyterscad) (0.2.2)\n",
      "Requirement already satisfied: ipython>=6.1.0 in /home/erik/miniconda3/lib/python3.12/site-packages (from ipywidgets->jupyterscad) (9.1.0)\n",
      "Requirement already satisfied: traitlets>=4.3.1 in /home/erik/miniconda3/lib/python3.12/site-packages (from ipywidgets->jupyterscad) (5.14.3)\n",
      "Collecting widgetsnbextension~=4.0.14 (from ipywidgets->jupyterscad)\n",
      "  Downloading widgetsnbextension-4.0.14-py3-none-any.whl.metadata (1.6 kB)\n",
      "Collecting jupyterlab_widgets~=3.0.14 (from ipywidgets->jupyterscad)\n",
      "  Downloading jupyterlab_widgets-3.0.14-py3-none-any.whl.metadata (4.1 kB)\n",
      "Collecting numpy (from numpy-stl->jupyterscad)\n",
      "  Downloading numpy-2.2.4-cp312-cp312-manylinux_2_17_x86_64.manylinux2014_x86_64.whl.metadata (62 kB)\n",
      "\u001b[2K     \u001b[38;2;114;156;31m━━━━━━━━━━━━━━━━━━━━━━━━━━━━━━━━━━━━━━━━\u001b[0m \u001b[32m62.0/62.0 kB\u001b[0m \u001b[31m5.5 MB/s\u001b[0m eta \u001b[36m0:00:00\u001b[0m\n",
      "\u001b[?25hCollecting python-utils>=3.4.5 (from numpy-stl->jupyterscad)\n",
      "  Downloading python_utils-3.9.1-py2.py3-none-any.whl.metadata (9.8 kB)\n",
      "Collecting ipydatawidgets>=1.1.1 (from pythreejs->jupyterscad)\n",
      "  Downloading ipydatawidgets-4.3.5-py2.py3-none-any.whl.metadata (1.4 kB)\n",
      "Collecting traittypes>=0.2.0 (from ipydatawidgets>=1.1.1->pythreejs->jupyterscad)\n",
      "  Downloading traittypes-0.2.1-py2.py3-none-any.whl.metadata (1.0 kB)\n",
      "Requirement already satisfied: decorator in /home/erik/miniconda3/lib/python3.12/site-packages (from ipython>=6.1.0->ipywidgets->jupyterscad) (5.2.1)\n",
      "Requirement already satisfied: ipython-pygments-lexers in /home/erik/miniconda3/lib/python3.12/site-packages (from ipython>=6.1.0->ipywidgets->jupyterscad) (1.1.1)\n",
      "Requirement already satisfied: jedi>=0.16 in /home/erik/miniconda3/lib/python3.12/site-packages (from ipython>=6.1.0->ipywidgets->jupyterscad) (0.19.2)\n",
      "Requirement already satisfied: matplotlib-inline in /home/erik/miniconda3/lib/python3.12/site-packages (from ipython>=6.1.0->ipywidgets->jupyterscad) (0.1.7)\n",
      "Requirement already satisfied: pexpect>4.3 in /home/erik/miniconda3/lib/python3.12/site-packages (from ipython>=6.1.0->ipywidgets->jupyterscad) (4.9.0)\n",
      "Requirement already satisfied: prompt_toolkit<3.1.0,>=3.0.41 in /home/erik/miniconda3/lib/python3.12/site-packages (from ipython>=6.1.0->ipywidgets->jupyterscad) (3.0.50)\n",
      "Requirement already satisfied: pygments>=2.4.0 in /home/erik/miniconda3/lib/python3.12/site-packages (from ipython>=6.1.0->ipywidgets->jupyterscad) (2.19.1)\n",
      "Requirement already satisfied: stack_data in /home/erik/miniconda3/lib/python3.12/site-packages (from ipython>=6.1.0->ipywidgets->jupyterscad) (0.6.3)\n",
      "Requirement already satisfied: typing_extensions>3.10.0.2 in /home/erik/miniconda3/lib/python3.12/site-packages (from python-utils>=3.4.5->numpy-stl->jupyterscad) (4.13.2)\n",
      "Requirement already satisfied: parso<0.9.0,>=0.8.4 in /home/erik/miniconda3/lib/python3.12/site-packages (from jedi>=0.16->ipython>=6.1.0->ipywidgets->jupyterscad) (0.8.4)\n",
      "Requirement already satisfied: ptyprocess>=0.5 in /home/erik/miniconda3/lib/python3.12/site-packages (from pexpect>4.3->ipython>=6.1.0->ipywidgets->jupyterscad) (0.7.0)\n",
      "Requirement already satisfied: wcwidth in /home/erik/miniconda3/lib/python3.12/site-packages (from prompt_toolkit<3.1.0,>=3.0.41->ipython>=6.1.0->ipywidgets->jupyterscad) (0.2.13)\n",
      "Requirement already satisfied: executing>=1.2.0 in /home/erik/miniconda3/lib/python3.12/site-packages (from stack_data->ipython>=6.1.0->ipywidgets->jupyterscad) (2.2.0)\n",
      "Requirement already satisfied: asttokens>=2.1.0 in /home/erik/miniconda3/lib/python3.12/site-packages (from stack_data->ipython>=6.1.0->ipywidgets->jupyterscad) (3.0.0)\n",
      "Requirement already satisfied: pure-eval in /home/erik/miniconda3/lib/python3.12/site-packages (from stack_data->ipython>=6.1.0->ipywidgets->jupyterscad) (0.2.3)\n",
      "Downloading jupyterscad-1.0-py3-none-any.whl (20 kB)\n",
      "Downloading ipywidgets-8.1.6-py3-none-any.whl (139 kB)\n",
      "\u001b[2K   \u001b[38;2;114;156;31m━━━━━━━━━━━━━━━━━━━━━━━━━━━━━━━━━━━━━━━━\u001b[0m \u001b[32m139.8/139.8 kB\u001b[0m \u001b[31m14.6 MB/s\u001b[0m eta \u001b[36m0:00:00\u001b[0m\n",
      "\u001b[?25hDownloading numpy_stl-3.2.0-py3-none-any.whl (20 kB)\n",
      "Downloading pythreejs-2.4.2-py3-none-any.whl (3.4 MB)\n",
      "\u001b[2K   \u001b[38;2;114;156;31m━━━━━━━━━━━━━━━━━━━━━━━━━━━━━━━━━━━━━━━━\u001b[0m \u001b[32m3.4/3.4 MB\u001b[0m \u001b[31m47.6 MB/s\u001b[0m eta \u001b[36m0:00:00\u001b[0m31m61.6 MB/s\u001b[0m eta \u001b[36m0:00:01\u001b[0m\n",
      "\u001b[?25hDownloading ipydatawidgets-4.3.5-py2.py3-none-any.whl (271 kB)\n",
      "\u001b[2K   \u001b[38;2;114;156;31m━━━━━━━━━━━━━━━━━━━━━━━━━━━━━━━━━━━━━━━━\u001b[0m \u001b[32m271.7/271.7 kB\u001b[0m \u001b[31m35.3 MB/s\u001b[0m eta \u001b[36m0:00:00\u001b[0m\n",
      "\u001b[?25hDownloading jupyterlab_widgets-3.0.14-py3-none-any.whl (213 kB)\n",
      "\u001b[2K   \u001b[38;2;114;156;31m━━━━━━━━━━━━━━━━━━━━━━━━━━━━━━━━━━━━━━━━\u001b[0m \u001b[32m214.0/214.0 kB\u001b[0m \u001b[31m30.3 MB/s\u001b[0m eta \u001b[36m0:00:00\u001b[0m\n",
      "\u001b[?25hDownloading python_utils-3.9.1-py2.py3-none-any.whl (32 kB)\n",
      "Downloading widgetsnbextension-4.0.14-py3-none-any.whl (2.2 MB)\n",
      "\u001b[2K   \u001b[38;2;114;156;31m━━━━━━━━━━━━━━━━━━━━━━━━━━━━━━━━━━━━━━━━\u001b[0m \u001b[32m2.2/2.2 MB\u001b[0m \u001b[31m51.2 MB/s\u001b[0m eta \u001b[36m0:00:00\u001b[0mm eta \u001b[36m0:00:01\u001b[0m\n",
      "\u001b[?25hDownloading numpy-2.2.4-cp312-cp312-manylinux_2_17_x86_64.manylinux2014_x86_64.whl (16.1 MB)\n",
      "\u001b[2K   \u001b[38;2;114;156;31m━━━━━━━━━━━━━━━━━━━━━━━━━━━━━━━━━━━━━━━━\u001b[0m \u001b[32m16.1/16.1 MB\u001b[0m \u001b[31m49.2 MB/s\u001b[0m eta \u001b[36m0:00:00\u001b[0mm eta \u001b[36m0:00:01\u001b[0m[36m0:00:01\u001b[0m\n",
      "\u001b[?25hDownloading traittypes-0.2.1-py2.py3-none-any.whl (8.6 kB)\n",
      "Installing collected packages: widgetsnbextension, traittypes, python-utils, numpy, jupyterlab_widgets, numpy-stl, ipywidgets, ipydatawidgets, pythreejs, jupyterscad\n",
      "Successfully installed ipydatawidgets-4.3.5 ipywidgets-8.1.6 jupyterlab_widgets-3.0.14 jupyterscad-1.0 numpy-2.2.4 numpy-stl-3.2.0 python-utils-3.9.1 pythreejs-2.4.2 traittypes-0.2.1 widgetsnbextension-4.0.14\n"
     ]
    }
   ],
   "source": [
    "!pip install solidpython2 jupyterscad"
   ]
  },
  {
   "cell_type": "code",
   "execution_count": 1,
   "id": "ac0cf48e",
   "metadata": {},
   "outputs": [
    {
     "data": {
      "text/plain": [
       "'/Users/erik/code/marble_maze/cube.scad'"
      ]
     },
     "execution_count": 1,
     "metadata": {},
     "output_type": "execute_result"
    }
   ],
   "source": [
    "from solid2 import cube\n",
    "model = cube(4)\n",
    "model.save_as_scad(\"cube.scad\")"
   ]
  },
  {
   "cell_type": "code",
   "execution_count": 2,
   "id": "f459c868",
   "metadata": {},
   "outputs": [
    {
     "data": {
      "application/vnd.jupyter.widget-view+json": {
       "model_id": "94ad8c38839446e9a348c59e35fcf2b4",
       "version_major": 2,
       "version_minor": 0
      },
      "text/plain": [
       "Renderer(camera=PerspectiveCamera(children=(DirectionalLight(color='white', intensity=0.7, position=(3.0, 5.0,…"
      ]
     },
     "execution_count": 2,
     "metadata": {},
     "output_type": "execute_result"
    }
   ],
   "source": [
    "from jupyterscad import view\n",
    "from solid2 import cube\n",
    "\n",
    "view(cube([1.5,2,1],center=True), outfile='cube.stl')"
   ]
  },
  {
   "cell_type": "code",
   "execution_count": 5,
   "id": "097fea75-6e6c-4497-81ce-e9f7fffdb91a",
   "metadata": {},
   "outputs": [
    {
     "data": {
      "image/png": "[encoded data removed]",
      "text/plain": [
       "<Figure size 1000x1000 with 1 Axes>"
      ]
     },
     "metadata": {},
     "output_type": "display_data"
    }
   ],
   "source": [
    "import matplotlib.pyplot as plt\n",
    "import numpy as np\n",
    "from hilbertcurve.hilbertcurve import HilbertCurve\n",
    "\n",
    "def get_hilbert_3d_curve(order, x_size, y_size, z_size):\n",
    "    dimensions=2\n",
    "    hilbert_curve = HilbertCurve(order, dimensions)\n",
    "    distances = list(range(2 ** (dimensions * order)))\n",
    "    points = hilbert_curve.points_from_distances(distances)\n",
    "    x_coords, y_coords = zip(*points)\n",
    "\n",
    "    x_coords = [x * x_size / max(x_coords) for x in x_coords]\n",
    "    y_coords = [y * y_size / max(y_coords) for y in y_coords]\n",
    "    z_coords = np.linspace(z_size, 0, len(x_coords))\n",
    "    z_coords = [float(z) for z in z_coords]\n",
    "    return x_coords, y_coords, z_coords\n",
    "\n",
    "    \n",
    "\n",
    "def plot_hilbert_curve(order, connect_points=True, show_points=True):\n",
    "    \"\"\"\n",
    "    Plot a Hilbert curve of given order.\n",
    "    \n",
    "    Args:\n",
    "        order (int): Order of the Hilbert curve\n",
    "        connect_points (bool): Whether to connect points with lines\n",
    "        show_points (bool): Whether to display the individual points\n",
    "    \"\"\"\n",
    "    # Generate Hilbert curve coordinates\n",
    "    x_coords, y_coords, z_coords = get_hilbert_3d_curve(order, 2, 2, 2)\n",
    "    \n",
    "    # Create the plot\n",
    "    plt.figure(figsize=(10, 10))\n",
    "    \n",
    "    # Plot the curve (connected points)\n",
    "    if connect_points:\n",
    "        plt.plot(x_coords, y_coords, '-', linewidth=2, color='blue', alpha=0.7)\n",
    "    \n",
    "    # Plot the individual points\n",
    "    if show_points:\n",
    "        plt.scatter(x_coords, y_coords, s=50, edgecolors='black')\n",
    "    \n",
    "    # Customize the plot\n",
    "    plt.title(f'Hilbert Curve - Order {order}', fontsize=16)\n",
    "    plt.grid(True, alpha=0.3)\n",
    "    plt.gca().set_aspect('equal')\n",
    "    \n",
    "    # Set axis limits with some padding\n",
    "    # limit = 2 ** order\n",
    "    # plt.xlim(-0.5, limit - 0.5)\n",
    "    # plt.ylim(-0.5, limit - 0.5)\n",
    "    \n",
    "    # Show the plot\n",
    "    plt.show()\n",
    "\n",
    "    points = list(zip(x_coords, y_coords, z_coords))\n",
    "    \n",
    "    return points\n",
    "points = plot_hilbert_curve(3)"
   ]
  },
  {
   "cell_type": "code",
   "execution_count": 6,
   "id": "a79d7be9-a880-4535-829f-ff962f577d3b",
   "metadata": {},
   "outputs": [
    {
     "data": {
      "application/vnd.jupyter.widget-view+json": {
       "model_id": "bb28e5b6669c4de5b41970376a54415e",
       "version_major": 2,
       "version_minor": 0
      },
      "text/plain": [
       "Renderer(camera=PerspectiveCamera(children=(DirectionalLight(color='white', intensity=0.7, position=(3.0, 5.0,…"
      ]
     },
     "execution_count": 6,
     "metadata": {},
     "output_type": "execute_result"
    }
   ],
   "source": [
    "\"\"\" Creates the underlying support structure for the marble track.\n",
    "\n",
    "\n",
    "\n",
    "\n",
    "\"\"\"\n",
    "import math\n",
    "import numpy as np\n",
    "from solid2 import cube, cylinder, union, translate, rotate, color, sphere\n",
    "\n",
    "\n",
    "def create_support_structure(points, w):\n",
    "    supports = []\n",
    "    \n",
    "    for i, point in enumerate(points):\n",
    "        x, y, z = point\n",
    "        \n",
    "        # Create vertical cylinder from ground (z=0) to point height (z)\n",
    "        vertical_cylinder = translate([x, y, 0])(\n",
    "            cylinder(d=w, h=z, _fn=20)\n",
    "        )\n",
    "        supports.append(vertical_cylinder)\n",
    "        \n",
    "        # Create connecting rectangle to next point (if not the last point)\n",
    "        if i < len(points) - 1:\n",
    "            next_point = points[i + 1]\n",
    "            next_x, next_y, next_z = next_point\n",
    "            \n",
    "            # Calculate the vector from current point to next point\n",
    "            dx = next_x - x\n",
    "            dy = next_y - y\n",
    "            dz = next_z - z\n",
    "            \n",
    "            # Calculate the angle for rotation\n",
    "            angle = math.degrees(math.atan2(dy, dx))\n",
    "            \n",
    "            # Calculate the distance (length) between points\n",
    "            horizontal_distance = math.sqrt(dx**2 + dy**2)\n",
    "            \n",
    "            # Create a rectangular connection\n",
    "            # Rectangle height is the z-coordinate of the first point\n",
    "            connecting_rect = translate([x, y, 0])(\n",
    "                rotate([0, 0, angle])(\n",
    "                    translate([0, -w/2, 0])(\n",
    "                        cube([horizontal_distance, w, z])\n",
    "                    )\n",
    "                )\n",
    "            )\n",
    "            supports.append(connecting_rect)\n",
    "            \n",
    "    # Combine all the parts into a single union\n",
    "    return union()(*supports)\n",
    "\n",
    "view(create_support_structure(points, .2))"
   ]
  },
  {
   "cell_type": "code",
   "execution_count": 90,
   "id": "a7915169-a67c-48bf-b7c9-87e16272ccfa",
   "metadata": {},
   "outputs": [
    {
     "data": {
      "application/vnd.jupyter.widget-view+json": {
       "model_id": "cd759ded38c949b49b8d4946a59ef922",
       "version_major": 2,
       "version_minor": 0
      },
      "text/plain": [
       "Renderer(camera=PerspectiveCamera(children=(DirectionalLight(color='white', intensity=0.7, position=(3.0, 5.0,…"
      ]
     },
     "execution_count": 90,
     "metadata": {},
     "output_type": "execute_result"
    }
   ],
   "source": [
    "def create_channel(channel_radius, points):\n",
    "    channel = circle(r=channel_radius, _fn=20).path_extrude(points)\n",
    "\n",
    "    channel += translate(points[0])(sphere(r=channel_radius, _fn=32))\n",
    "    channel += translate(points[-1])(sphere(r=channel_radius, _fn=32))\n",
    "    \n",
    "    return channel\n",
    "\n",
    "view(create_channel(.1, points[:10]))"
   ]
  },
  {
   "cell_type": "code",
   "execution_count": 95,
   "id": "339ccd7f-6022-48b2-aa8a-5c430df2a184",
   "metadata": {},
   "outputs": [
    {
     "data": {
      "application/vnd.jupyter.widget-view+json": {
       "model_id": "7368d5882f7a4f3794ed5629efbb32c9",
       "version_major": 2,
       "version_minor": 0
      },
      "text/plain": [
       "Renderer(camera=PerspectiveCamera(children=(DirectionalLight(color='white', intensity=0.7, position=(3.0, 5.0,…"
      ]
     },
     "execution_count": 95,
     "metadata": {},
     "output_type": "execute_result"
    }
   ],
   "source": [
    "\n",
    "\n",
    "fill_fraction = 0.8\n",
    "channel_fraction = 0.5\n",
    "p_lim = 10\n",
    "\n",
    "spacing = ((points[0][0] - points[1][0])**2 + (points[0][1] - points[1][1])**2)**.5\n",
    "\n",
    "\n",
    "support_width = spacing * fill_fraction\n",
    "\n",
    "support = create_support_structure(points[-p_lim:], support_width)\n",
    "\n",
    "channel_radius = spacing * channel_fraction / 2\n",
    "channel = create_channel(channel_radius, points[-p_lim:])\n",
    "\n",
    "structure = support - channel\n",
    "    \n",
    "view(structure)"
   ]
  },
  {
   "cell_type": "code",
   "execution_count": 27,
   "id": "3fdefc1c-d328-4654-98b9-710f46910bd2",
   "metadata": {
    "collapsed": true,
    "jupyter": {
     "outputs_hidden": true
    }
   },
   "outputs": [
    {
     "name": "stdout",
     "output_type": "stream",
     "text": [
      "Collecting matplotlib\n",
      "  Downloading matplotlib-3.10.1-cp312-cp312-manylinux_2_17_x86_64.manylinux2014_x86_64.whl.metadata (11 kB)\n",
      "Collecting contourpy>=1.0.1 (from matplotlib)\n",
      "  Downloading contourpy-1.3.1-cp312-cp312-manylinux_2_17_x86_64.manylinux2014_x86_64.whl.metadata (5.4 kB)\n",
      "Collecting cycler>=0.10 (from matplotlib)\n",
      "  Downloading cycler-0.12.1-py3-none-any.whl.metadata (3.8 kB)\n",
      "Collecting fonttools>=4.22.0 (from matplotlib)\n",
      "  Downloading fonttools-4.57.0-cp312-cp312-manylinux_2_5_x86_64.manylinux1_x86_64.manylinux_2_17_x86_64.manylinux2014_x86_64.whl.metadata (102 kB)\n",
      "\u001b[2K     \u001b[38;2;114;156;31m━━━━━━━━━━━━━━━━━━━━━━━━━━━━━━━━━━━━━━━\u001b[0m \u001b[32m102.5/102.5 kB\u001b[0m \u001b[31m8.0 MB/s\u001b[0m eta \u001b[36m0:00:00\u001b[0m\n",
      "\u001b[?25hCollecting kiwisolver>=1.3.1 (from matplotlib)\n",
      "  Downloading kiwisolver-1.4.8-cp312-cp312-manylinux_2_17_x86_64.manylinux2014_x86_64.whl.metadata (6.2 kB)\n",
      "Requirement already satisfied: numpy>=1.23 in /home/erik/miniconda3/lib/python3.12/site-packages (from matplotlib) (2.2.4)\n",
      "Requirement already satisfied: packaging>=20.0 in /home/erik/miniconda3/lib/python3.12/site-packages (from matplotlib) (23.2)\n",
      "Collecting pillow>=8 (from matplotlib)\n",
      "  Downloading pillow-11.2.1-cp312-cp312-manylinux_2_28_x86_64.whl.metadata (8.9 kB)\n",
      "Collecting pyparsing>=2.3.1 (from matplotlib)\n",
      "  Downloading pyparsing-3.2.3-py3-none-any.whl.metadata (5.0 kB)\n",
      "Requirement already satisfied: python-dateutil>=2.7 in /home/erik/miniconda3/lib/python3.12/site-packages (from matplotlib) (2.9.0.post0)\n",
      "Requirement already satisfied: six>=1.5 in /home/erik/miniconda3/lib/python3.12/site-packages (from python-dateutil>=2.7->matplotlib) (1.17.0)\n",
      "Downloading matplotlib-3.10.1-cp312-cp312-manylinux_2_17_x86_64.manylinux2014_x86_64.whl (8.6 MB)\n",
      "\u001b[2K   \u001b[38;2;114;156;31m━━━━━━━━━━━━━━━━━━━━━━━━━━━━━━━━━━━━━━━━\u001b[0m \u001b[32m8.6/8.6 MB\u001b[0m \u001b[31m53.1 MB/s\u001b[0m eta \u001b[36m0:00:00\u001b[0m31m54.6 MB/s\u001b[0m eta \u001b[36m0:00:01\u001b[0m\n",
      "\u001b[?25hDownloading contourpy-1.3.1-cp312-cp312-manylinux_2_17_x86_64.manylinux2014_x86_64.whl (323 kB)\n",
      "\u001b[2K   \u001b[38;2;114;156;31m━━━━━━━━━━━━━━━━━━━━━━━━━━━━━━━━━━━━━━━━\u001b[0m \u001b[32m323.6/323.6 kB\u001b[0m \u001b[31m32.5 MB/s\u001b[0m eta \u001b[36m0:00:00\u001b[0m\n",
      "\u001b[?25hDownloading cycler-0.12.1-py3-none-any.whl (8.3 kB)\n",
      "Downloading fonttools-4.57.0-cp312-cp312-manylinux_2_5_x86_64.manylinux1_x86_64.manylinux_2_17_x86_64.manylinux2014_x86_64.whl (4.9 MB)\n",
      "\u001b[2K   \u001b[38;2;114;156;31m━━━━━━━━━━━━━━━━━━━━━━━━━━━━━━━━━━━━━━━━\u001b[0m \u001b[32m4.9/4.9 MB\u001b[0m \u001b[31m50.9 MB/s\u001b[0m eta \u001b[36m0:00:00\u001b[0m[36m0:00:01\u001b[0mm eta \u001b[36m0:00:01\u001b[0m\n",
      "\u001b[?25hDownloading kiwisolver-1.4.8-cp312-cp312-manylinux_2_17_x86_64.manylinux2014_x86_64.whl (1.5 MB)\n",
      "\u001b[2K   \u001b[38;2;114;156;31m━━━━━━━━━━━━━━━━━━━━━━━━━━━━━━━━━━━━━━━━\u001b[0m \u001b[32m1.5/1.5 MB\u001b[0m \u001b[31m45.8 MB/s\u001b[0m eta \u001b[36m0:00:00\u001b[0m\n",
      "\u001b[?25hDownloading pillow-11.2.1-cp312-cp312-manylinux_2_28_x86_64.whl (4.6 MB)\n",
      "\u001b[2K   \u001b[38;2;114;156;31m━━━━━━━━━━━━━━━━━━━━━━━━━━━━━━━━━━━━━━━━\u001b[0m \u001b[32m4.6/4.6 MB\u001b[0m \u001b[31m47.8 MB/s\u001b[0m eta \u001b[36m0:00:00\u001b[0m[36m0:00:01\u001b[0m[36m0:00:01\u001b[0m\n",
      "\u001b[?25hDownloading pyparsing-3.2.3-py3-none-any.whl (111 kB)\n",
      "\u001b[2K   \u001b[38;2;114;156;31m━━━━━━━━━━━━━━━━━━━━━━━━━━━━━━━━━━━━━━━━\u001b[0m \u001b[32m111.1/111.1 kB\u001b[0m \u001b[31m12.0 MB/s\u001b[0m eta \u001b[36m0:00:00\u001b[0m\n",
      "\u001b[?25hInstalling collected packages: pyparsing, pillow, kiwisolver, fonttools, cycler, contourpy, matplotlib\n",
      "Successfully installed contourpy-1.3.1 cycler-0.12.1 fonttools-4.57.0 kiwisolver-1.4.8 matplotlib-3.10.1 pillow-11.2.1 pyparsing-3.2.3\n"
     ]
    }
   ],
   "source": [
    "!pip install matplotlib \n",
    "!pip install hilbertcurve"
   ]
  },
  {
   "cell_type": "code",
   "execution_count": 74,
   "id": "4f4b7854-0a2b-4449-986f-453b37ae27df",
   "metadata": {},
   "outputs": [
    {
     "data": {
      "text/plain": [
       "np.float64(0.2874725440678545)"
      ]
     },
     "execution_count": 74,
     "metadata": {},
     "output_type": "execute_result"
    }
   ],
   "source": [
    "np.linalg.norm(np.array(points[0]) - np.array(points[1]))"
   ]
  },
  {
   "cell_type": "code",
   "execution_count": 75,
   "id": "66bf9b4b-a0d2-43d9-b73d-f6c0db0365d5",
   "metadata": {},
   "outputs": [
    {
     "data": {
      "text/plain": [
       "0.2857142857142857"
      ]
     },
     "execution_count": 75,
     "metadata": {},
     "output_type": "execute_result"
    }
   ],
   "source": [
    "((points[0][0] - points[1][0])**2 + (points[0][1] - points[1][1])**2)**.5"
   ]
  }
 ],
 "metadata": {
  "kernelspec": {
   "display_name": "Python 3 (ipykernel)",
   "language": "python",
   "name": "python3"
  },
  "language_info": {
   "codemirror_mode": {
    "name": "ipython",
    "version": 3
   },
   "file_extension": ".py",
   "mimetype": "text/x-python",
   "name": "python",
   "nbconvert_exporter": "python",
   "pygments_lexer": "ipython3",
   "version": "3.12.3"
  }
 },
 "nbformat": 4,
 "nbformat_minor": 5
}
