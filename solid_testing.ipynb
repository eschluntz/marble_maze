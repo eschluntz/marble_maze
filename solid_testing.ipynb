import matplotlib.pyplot as plt
import numpy as np
from hilbertcurve.hilbertcurve import HilbertCurve

def get_hilbert_3d_curve(order, x_size, y_size, z_size):
    dimensions = 2
    hilbert_curve = HilbertCurve(order, dimensions)
    distances_along_curve = list(range(2 ** (dimensions * order)))
    points = hilbert_curve.points_from_distances(distances_along_curve)
    x_coords, y_coords = zip(*points)

    x_coords = [x * x_size / max(x_coords) for x in x_coords]
    y_coords = [y * y_size / max(y_coords) for y in y_coords]
    z_coords = np.linspace(z_size, 0, len(x_coords))
    z_coords = [float(z) for z in z_coords]
    return x_coords, y_coords, z_coords

    

def plot_hilbert_curve(order, connect_points=True, show_points=True):
    """
    Plot a Hilbert curve of given order.
    
    Args:
        order (int): Order of the Hilbert curve
        connect_points (bool): Whether to connect points with lines
        show_points (bool): Whether to display the individual points
    """
    # Generate Hilbert curve coordinates
    x_coords, y_coords, z_coords = get_hilbert_3d_curve(order, 2, 2, 2)
    
    # Create the plot
    plt.figure(figsize=(10, 10))
    
    # Plot the curve (connected points)
    if connect_points:
        plt.plot(x_coords, y_coords, '-', linewidth=2, color='blue', alpha=0.7)
    
    # Plot the individual points
    if show_points:
        plt.scatter(x_coords, y_coords, s=50, edgecolors='black')
    
    # Customize the plot
    plt.title(f'Hilbert Curve - Order {order}', fontsize=16)
    plt.grid(True, alpha=0.3)
    plt.gca().set_aspect('equal')
    
    # Set axis limits with some padding
    # limit = 2 ** order
    # plt.xlim(-0.5, limit - 0.5)
    # plt.ylim(-0.5, limit - 0.5)
    
    # Show the plot
    plt.show()

    points = list(zip(x_coords, y_coords, z_coords))
    
    return points
points = plot_hilbert_curve(3)
